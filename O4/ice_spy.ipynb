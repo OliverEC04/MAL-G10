{
 "cells": [
  {
   "cell_type": "code",
   "execution_count": 1,
   "id": "75a3a250",
   "metadata": {},
   "outputs": [],
   "source": [
    "import tensorflow as tf\n",
    "import os\n",
    "from tensorflow.keras.preprocessing.image import load_img, img_to_array\n",
    "from tensorflow.keras import layers, models\n",
    "import matplotlib.pyplot as plt\n",
    "from sklearn.model_selection import train_test_split\n",
    "import numpy as np\n",
    "\n",
    "IMG_SIZE = 512\n",
    "\n",
    "def load_images_from_folder(folder_path, label, img_size):\n",
    "    data = []\n",
    "    labels = []\n",
    "    for img_name in os.listdir(folder_path):\n",
    "        img_path = os.path.join(folder_path, img_name)\n",
    "        img = load_img(img_path, target_size=(img_size, img_size))\n",
    "        img_array = img_to_array(img) / 255.0\n",
    "        data.append(img_array)\n",
    "        labels.append(label)\n",
    "    return data, labels\n",
    "\n",
    "# Load training data\n",
    "train_is_path = \"ice_cream/train/ice_cream\"\n",
    "train_not_path = \"ice_cream/train/non_ice_cream\"\n",
    "train_data_is, labels_is = load_images_from_folder(train_is_path, 1, IMG_SIZE)\n",
    "train_data_not, labels_not = load_images_from_folder(train_not_path, 0, IMG_SIZE)\n",
    "\n",
    "X_train = np.array(train_data_is + train_data_not)\n",
    "y_train = np.array(labels_is + labels_not)\n",
    "\n",
    "# Load testing data\n",
    "test_is_path = \"ice_cream/test/ice_cream\"\n",
    "test_not_path = \"ice_cream/test/non_ice_cream\"\n",
    "test_data_is, test_labels_is = load_images_from_folder(test_is_path, 1, IMG_SIZE)\n",
    "test_data_not, test_labels_not = load_images_from_folder(test_not_path, 0, IMG_SIZE)\n",
    "\n",
    "X_test = np.array(test_data_is + test_data_not)\n",
    "y_test = np.array(test_labels_is + test_labels_not)\n"
   ]
  },
  {
   "cell_type": "code",
   "execution_count": null,
   "id": "b1f40521",
   "metadata": {},
   "outputs": [
    {
     "name": "stdout",
     "output_type": "stream",
     "text": [
      "x_test:  (200, 512, 512, 3)\n",
      "y_test:  (200,)\n",
      "x_train:  (1800, 512, 512, 3)\n",
      "y_train:  (1800,)\n",
      "Epoch 1/10\n",
      "\u001b[1m 3/57\u001b[0m \u001b[32m━\u001b[0m\u001b[37m━━━━━━━━━━━━━━━━━━━\u001b[0m \u001b[1m3:14\u001b[0m 4s/step - accuracy: 0.4583 - loss: 6.0873"
     ]
    }
   ],
   "source": [
    "from sklearn.utils import shuffle\n",
    "\n",
    "# Træning:\n",
    "print(\"x_test: \", X_test.shape)\n",
    "print(\"y_test: \", y_test.shape)\n",
    "print(\"x_train: \", X_train.shape)\n",
    "print(\"y_train: \", y_train.shape)\n",
    "\n",
    "# Shuffle\n",
    "X_train, y_train = shuffle(X_train, y_train, random_state=42)\n",
    "X_test, y_test = shuffle(X_test, y_test, random_state=42)\n",
    "\n",
    "\n",
    "# CNN model\n",
    "model = models.Sequential()\n",
    "model.add(layers.Conv2D(32, (3, 3), activation='relu', input_shape=(IMG_SIZE, IMG_SIZE, 3)))\n",
    "model.add(layers.MaxPooling2D((2, 2)))\n",
    "model.add(layers.Conv2D(64, (3, 3), activation='relu'))\n",
    "model.add(layers.MaxPooling2D((2, 2)))\n",
    "model.add(layers.Conv2D(64, (3, 3), activation='relu'))\n",
    "model.add(layers.Flatten())\n",
    "model.add(layers.Dense(64, activation='relu'))\n",
    "model.add(layers.Dense(1, activation='sigmoid'))  # Binær classification (is / not-is)\n",
    "\n",
    "model.compile(optimizer='adam',\n",
    "              loss='binary_crossentropy', # also hvad pokker er det her\n",
    "              metrics=['accuracy'])\n",
    "\n",
    "model.fit(X_train, y_train, epochs=10, validation_data=(X_test, y_test))\n",
    "model.summary()\n",
    "\n"
   ]
  }
 ],
 "metadata": {
  "kernelspec": {
   "display_name": "base",
   "language": "python",
   "name": "python3"
  },
  "language_info": {
   "codemirror_mode": {
    "name": "ipython",
    "version": 3
   },
   "file_extension": ".py",
   "mimetype": "text/x-python",
   "name": "python",
   "nbconvert_exporter": "python",
   "pygments_lexer": "ipython3",
   "version": "3.12.7"
  }
 },
 "nbformat": 4,
 "nbformat_minor": 5
}
