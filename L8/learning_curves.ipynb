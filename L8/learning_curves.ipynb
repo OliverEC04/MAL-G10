{
 "cells": [
  {
   "cell_type": "markdown",
   "metadata": {},
   "source": [
    "# SWMAL Exercise\n",
    "\n",
    "## Learning Curves\n",
    "\n",
    "### The Generalization Error, Over- and Underfitting, Early Stopping, and Optimal Capacity\n",
    "\n",
    "In this exercise, we need to explain all important overall concepts in training. Let's begin with Figure 5.3 from Deep Learning (Ian Goodfellow, et. al. [DL]), which pretty much sums it all up\n",
    "\n",
    "<img src=\"https://itundervisning.ase.au.dk/SWMAL/L08/Figs/dl_generalization_error.png\" alt=\"WARNING: could not get image from server.\" style=\"height:500px\">\n",
    "\n",
    "\n",
    "### Qa) The Generalization Error\n",
    "\n",
    "Write a detailed description of figure 5.3 (above) for your hand-in.\n",
    " \n",
    "All concepts in the figure must be explained \n",
    "\n",
    "* training/generalization error, \n",
    "* underfit/overfit zone, \n",
    "* optimal capacity, \n",
    "* generalization gab, \n",
    "* and the two axes: x/capacity, y/error."
   ]
  },
  {
   "cell_type": "code",
   "execution_count": null,
   "metadata": {},
   "outputs": [],
   "source": [
    "# TODO: ...in text\n",
    "assert False, \"TODO: write some text..\""
   ]
  },
  {
   "cell_type": "markdown",
   "metadata": {},
   "source": [
    "### Qb Learning Curves\n",
    "\n",
    "Next, produce a loss vs epoch graph ala (from `04_training_linear_models.ipynb` [GITHOML]) \n",
    "\n",
    "<img src=\"https://itundervisning.ase.au.dk/SWMAL/L08/Figs/training_curve.png\" alt=\"WARNING: could not get image from server.\">\n",
    "\n",
    "\n",
    "for your linear regressor, `MyLinReg`, from an earlier lesson. You need a function \n",
    "\n",
    ">```LossHistory()```\n",
    "\n",
    "on your regressor class, that accumulates the internally calculated $J$'s. Once `LossHistory` is ready, plot it using the code below."
   ]
  },
  {
   "cell_type": "code",
   "execution_count": null,
   "metadata": {},
   "outputs": [
    {
     "name": "stdout",
     "output_type": "stream",
     "text": [
      "it:  1 \n",
      "Loss:  1.7537211037899845\n",
      "it:  2 \n",
      "Loss:  1.6786445974010427\n",
      "it:  3 \n",
      "Loss:  1.6516876620180039\n",
      "it:  4 \n",
      "Loss:  1.6422059198633445\n",
      "it:  5 \n",
      "Loss:  1.6395586160098659\n",
      "it:  6 \n",
      "Loss:  1.6395610791825015\n",
      "it:  7 \n",
      "Loss:  1.640470632052324\n",
      "it:  8 \n",
      "Loss:  1.641564941042962\n",
      "it:  9 \n",
      "Loss:  1.6425663937283175\n",
      "it:  10 \n",
      "Loss:  1.643390631579914\n",
      "it:  11 \n",
      "Loss:  1.6440332134394242\n",
      "it:  12 \n",
      "Loss:  1.6445186431722203\n",
      "it:  13 \n",
      "Loss:  1.6448782191289673\n",
      "it:  14 \n",
      "Loss:  1.6451411818225208\n"
     ]
    },
    {
     "data": {
      "image/png": "[encoded data removed]",
      "text/plain": [
       "<Figure size 640x480 with 1 Axes>"
      ]
     },
     "metadata": {},
     "output_type": "display_data"
    },
    {
     "name": "stdout",
     "output_type": "stream",
     "text": [
      "OK\n"
     ]
    }
   ],
   "source": [
    "# assert False, \"TODO: implement a J-history function on your linear regressor..\"\n",
    "\n",
    "from sklearn.preprocessing import add_dummy_feature\n",
    "\n",
    "def GenerateSimpleData():\n",
    "    X = np.linspace(-10, 10, 100)\n",
    "    y = 2*np.tanh(2*X - 12) - 3*np.tanh(2*X - 4)  \n",
    "    y = 2*np.tanh(2*X + 2)  - 3*np.tanh(2*X - 4)   \n",
    "    X = X.reshape(-1, 1) # Scikit-algorithms needs matrix in (:,1)-format\n",
    "    return X,y\n",
    "# from L5 import MyLinReg\n",
    "import numpy as np\n",
    "from sklearn.preprocessing import StandardScaler\n",
    "import matplotlib.pyplot as plt\n",
    "\n",
    "class MyLinReg():\n",
    "    def __init__(self, eta0=0.01, max_iter=10000, tol=1e-3, n_iter_no_change=5, verbose=True):\n",
    "        self.eta0 = eta0\n",
    "        self.max_iter = max_iter\n",
    "        self.tolerance = tol\n",
    "        self.n_iter_no_change = n_iter_no_change\n",
    "        self.verbose = verbose\n",
    "        self.coef = None # vores w\n",
    "        self.intercept = None\n",
    "        self.history = []\n",
    "    \n",
    "    def __str__(self):\n",
    "        return \"MyLinReg.__str__(): hi!\"\n",
    "\n",
    "    def fit(self, X, y, method):\n",
    "        X = add_dummy_feature(X) # Augment med 1 taller\n",
    "        assert X.shape[0] == y.shape[0], \"X og y skal være lige store\"\n",
    "        self.coef = np.zeros(X.shape[1])\n",
    "        prev_loss = 99999999999999999999 # brug numpy infity her\n",
    "        no_change_counter = 0\n",
    "\n",
    "        for ep in range(self.max_iter):\n",
    "            if method == \"GD\":\n",
    "                # GD\n",
    "                y_pred = X @ self.coef\n",
    "                error = y_pred - y\n",
    "                gradient = X.T @ error / len(y) # hvor y_pred er Xw\n",
    "                self.coef -= gradient * self.eta0\n",
    "                # GD\n",
    "            elif method == \"SGD\":\n",
    "                # SGD\n",
    "                for i in range(len(y)):\n",
    "                    y_pred = X[i] @ self.coef\n",
    "                    error = y_pred - y[i]\n",
    "                    gradient = X[i] * error\n",
    "                    self.coef -= gradient * self.eta0\n",
    "                #SGD\n",
    "\n",
    "            loss = np.sqrt(np.mean(((X @ self.coef) - y) ** 2)) # vores cost RMSE, som svarer til gennemsnit af (y_pred - y)^2 \n",
    "            self.history.append(loss)\n",
    "\n",
    "            print(\"it: \", ep+1, \"\\nLoss: \", loss)\n",
    "\n",
    "            # tjek om den improver\n",
    "            if abs(prev_loss - loss) < self.tolerance:\n",
    "                no_change_counter += 1\n",
    "            else:\n",
    "                no_change_counter = 0\n",
    "                # prev_loss = loss\n",
    "\n",
    "            prev_loss = loss\n",
    "            if no_change_counter >= self.n_iter_no_change:\n",
    "                break\n",
    "            \n",
    "        self.intercept = self.coef[0]\n",
    "        self.coef = self.coef[1:]\n",
    "\n",
    "    def predict(self, X):\n",
    "        X = add_dummy_feature(X)\n",
    "        return X @ np.r_[self.intercept, self.coef]\n",
    "\n",
    "    def score(self, X, y_true):\n",
    "        # hvordan kan vi uden at add en dummy her?\n",
    "        y_pred = self.predict(X)\n",
    "        sum_squares_total = np.sum((y_true - np.mean(y_true))**2)\n",
    "        sum_squares_residual = np.sum((y_true - y_pred)**2)\n",
    "        return 1 - (sum_squares_residual / sum_squares_total) # Scoren\n",
    "\n",
    "    def LossHistory(self):\n",
    "        return self.history\n",
    "\n",
    "# generer noget  data\n",
    "X, y = GenerateSimpleData()\n",
    "\n",
    "X = X / np.max(X)\n",
    "\n",
    "r = MyLinReg()\n",
    "r.fit(X, y, \"SGD\")\n",
    "\n",
    "h = r.LossHistory()\n",
    "\n",
    "# Plot of J vs. epoch (or perhaps iteration)...\n",
    "fig, ax = plt.subplots()\n",
    "plt.plot(h)\n",
    "\n",
    "ax.set_title(\"Loss history\")\n",
    "ax.set_xlabel(\"Epoch\")\n",
    "ax.set_ylabel(\"J\")\n",
    "\n",
    "plt.show()\n",
    "\n",
    "print(\"OK\")"
   ]
  },
  {
   "cell_type": "markdown",
   "metadata": {},
   "source": [
    "### Qc)  Early Stopping\n",
    "\n",
    "Then implement ___early stopping___, in your `MyLinReg` estimator. Below is a graphical view of early stopping similar to Figure 4-20 p.162 [HOML] (for a non-linear model?)\n",
    "\n",
    "<img src=\"https://itundervisning.ase.au.dk/SWMAL/L08/Figs/early_stopping.png\" alt=\"WARNING: could not get image from server.\">\n",
    "\n",
    "Write an explanation of the early stopping concept in text, implement it in your linear regressor and write some test/demo code, that via some learning-curve graphs demonstrates how it works when training your linear regressor in both _batch-gradient descent_ and \n",
    "_stochastic gradient descent_ modes."
   ]
  },
  {
   "cell_type": "code",
   "execution_count": null,
   "metadata": {},
   "outputs": [
    {
     "name": "stdout",
     "output_type": "stream",
     "text": [
      "it:  1 \n",
      "Loss:  1.7537211037899845\n",
      "it:  2 \n",
      "Loss:  1.6786445974010427\n",
      "it:  3 \n",
      "Loss:  1.6516876620180039\n",
      "it:  4 \n",
      "Loss:  1.6422059198633445\n",
      "it:  5 \n",
      "Loss:  1.6395586160098659\n",
      "it:  6 \n",
      "Loss:  1.6395610791825015\n",
      "it:  7 \n",
      "Loss:  1.640470632052324\n",
      "it:  8 \n",
      "Loss:  1.641564941042962\n",
      "it:  9 \n",
      "Loss:  1.6425663937283175\n",
      "it:  10 \n",
      "Loss:  1.643390631579914\n",
      "it:  11 \n",
      "Loss:  1.6440332134394242\n",
      "it:  12 \n",
      "Loss:  1.6445186431722203\n",
      "it:  13 \n",
      "Loss:  1.6448782191289673\n",
      "it:  14 \n",
      "Loss:  1.6451411818225208\n"
     ]
    },
    {
     "data": {
      "image/png": "[encoded data removed]",
      "text/plain": [
       "<Figure size 640x480 with 1 Axes>"
      ]
     },
     "metadata": {},
     "output_type": "display_data"
    }
   ],
   "source": [
    "# assert False, \"TODO: implement early stopping\n",
    "# NY DATA WOOO\n",
    "\n",
    "\n",
    "X_test, y_test = GenerateSimpleData()\n",
    "\n",
    "X_test = X_test / np.max(X_test)\n",
    "\n",
    "r.fit(X, y, \"SGD\")\n",
    "\n",
    "# predict\n",
    "y_pred = r.predict(X_test)\n",
    "\n",
    "# loss for vores cv / nye test data\n",
    "loss_test = np.sqrt(np.mean((y_pred - y_test) ** 2))\n",
    "\n",
    "#plot plot\n",
    "fig, ax = plt.subplots()\n",
    "ax.plot(range(len(y_test)), y_test, 'bo-', label='True values')\n",
    "ax.plot(range(len(y_pred)), y_pred, 'ro-', label='Predicted values')\n",
    "ax.set_title(f\"Predictions vs True values (Loss: {loss_test:.4f})\")\n",
    "ax.set_xlabel(\"Sample index\")\n",
    "ax.set_ylabel(\"Value\")\n",
    "ax.legend()\n",
    "plt.show()"
   ]
  },
  {
   "cell_type": "markdown",
   "metadata": {},
   "source": [
    "### Qd:  [OPTIONAL]  Using a Polynomial Regressor to Produce an Error-vs-Capacity Graph\n",
    "\n",
    "Finally, create a polynomial estimator based on your `MyLinReg`, see details of\n",
    "how to expend a linear regressor to a polynomial fitting in [HOLM] or in\n",
    "\n",
    "> https://scikit-learn.org/stable/auto_examples/model_selection/plot_underfitting_overfitting.html\n",
    " \n",
    "that contains most of the code you will need. \n",
    " \n",
    "With a polynomial regressor, you should be able to reproduce a graph similar to Figure 5.3 from Deep Learning [DL], where you notice that the _x-axis_ is capacity and not _epoch_ as the learning curves you just produced in Qb/c."
   ]
  },
  {
   "cell_type": "code",
   "execution_count": null,
   "metadata": {},
   "outputs": [],
   "source": [
    "assert False \"TODO: implement a polynomial-fit pipeline, and create an Error-vs-Capacity plot..\n",
    "\n",
    "pipeline = Pipeline([\n",
    "      (\"polynomial_features\", polynomial_features),\n",
    "      (\"linear_regression\",   MyLinReg())\n",
    "  ])\n"
   ]
  },
  {
   "cell_type": "markdown",
   "metadata": {},
   "source": [
    "### Qe Conclusion\n",
    "\n",
    "Sum it all up in a nice, well-written conclusion."
   ]
  },
  {
   "cell_type": "markdown",
   "metadata": {},
   "source": [
    "REVISIONS||\n",
    ":-|:-\n",
    "2018-12-19| CEF, initial.                  \n",
    "2018-02-14| CEF, major update and put in sync with under/overfitting exe.         \n",
    "2018-02-20| CEF, fixed revision table malformatting.\n",
    "2018-02-25| CEF, minor text updates, and made Qc optional.\n",
    "2018-02-25| CEF, updated code, made more functions.\n",
    "2018-03-11| CEF, corrected RSME to RMSE.\n",
    "2019-10-08| CEF, updated to ITMAL E19.\n",
    "2020-03-14| CEF, updated to ITMAL F20.\n",
    "2020-10-15| CEF, updated to ITMAL E20.\n",
    "2020-11-17| CEF, added a comment on 90-degree polynomial, made early stopping a pseudo code exe.\n",
    "2021-03-22| CEF, changed crossref from \"capacity_under_overfitting.ipynb Qc\" to Qa+b in QdExplain the Polynomial RMSE-Capacity Plot. \n",
    "2021-03-23| CEF, changed 'cv RMSE' legend to 'validation RMSE'.\n",
    "2021-10-31| CEF, updated to ITMAL E21.\n",
    "2022-03-25| CEF, updated to SWMAL F22.\n",
    "2023-03-16| CEF, minor update to SWMAL F23.\n",
    "2024-09-25| CEF, major update, combined  generalization_error.ipynb and capacity_under_overfitting.ipynb, removed review parts, added graphs plots for MyLinReg.\n",
    "2024-10-14| CEF, minor text updates."
   ]
  }
 ],
 "metadata": {
  "kernelspec": {
   "display_name": "base",
   "language": "python",
   "name": "python3"
  },
  "language_info": {
   "codemirror_mode": {
    "name": "ipython",
    "version": 3
   },
   "file_extension": ".py",
   "mimetype": "text/x-python",
   "name": "python",
   "nbconvert_exporter": "python",
   "pygments_lexer": "ipython3",
   "version": "3.12.7"
  },
  "varInspector": {
   "cols": {
    "lenName": 16,
    "lenType": 16,
    "lenVar": 40
   },
   "kernels_config": {
    "python": {
     "delete_cmd_postfix": "",
     "delete_cmd_prefix": "del ",
     "library": "var_list.py",
     "varRefreshCmd": "print(var_dic_list())"
    },
    "r": {
     "delete_cmd_postfix": ") ",
     "delete_cmd_prefix": "rm(",
     "library": "var_list.r",
     "varRefreshCmd": "cat(var_dic_list()) "
    }
   },
   "position": {
    "height": "144.517px",
    "left": "1228px",
    "right": "20px",
    "top": "120px",
    "width": "350px"
   },
   "types_to_exclude": [
    "module",
    "function",
    "builtin_function_or_method",
    "instance",
    "_Feature"
   ],
   "window_display": true
  }
 },
 "nbformat": 4,
 "nbformat_minor": 4
}
