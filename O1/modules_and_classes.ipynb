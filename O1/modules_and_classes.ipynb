{
 "cells": [
  {
   "cell_type": "markdown",
   "metadata": {},
   "source": [
    "# SWMAL Exercise\n",
    "\n",
    "## Python Basics\n",
    "\n",
    "### Modules and Packages in Python\n",
    "\n",
    "Reuse of code in Jupyter notebooks can be done by either including a raw python source as a magic command\n",
    "\n",
    "```python\n",
    "%load filename.py\n",
    "```\n",
    "but this just pastes the source into the notebook and creates all kinds of pains regarding code maintenance.\n",
    "\n",
    "A better way is to use a python __module__. A module consists simply (and pythonic) of a directory with a module init file in it (possibly empty) \n",
    "```python\n",
    "libitmal/__init__.py\n",
    "```\n",
    "To this directory you can add modules in form of plain python files, say\n",
    "```python\n",
    "libitmal/utils.py\n",
    "```\n",
    "That's about it! The `libitmal` file tree should now look like\n",
    "```\n",
    "libitmal/\n",
    "├── __init__.py\n",
    "├── __pycache__\n",
    "│   ├── __init__.cpython-36.pyc\n",
    "│   └── utils.cpython-36.pyc\n",
    "├── utils.py\n",
    "```\n",
    "with the cache part only being present once the module has been initialized.\n",
    "\n",
    "You should now be able to use the `libitmal` unit via an import directive, like\n",
    "```python\n",
    "import numpy as np\n",
    "from libitmal import utils as itmalutils\n",
    "\n",
    "print(dir(itmalutils))\n",
    "print(itmalutils.__file__)\n",
    "\n",
    "X = np.array([[1,2],[3,-100]])\n",
    "itmalutils.PrintMatrix(X,\"mylabel=\")\n",
    "itmalutils.TestAll()\n",
    "```\n",
    "\n",
    "#### Qa Load and test the `libitmal` module\n",
    "\n",
    "Try out the `libitmal` module from [GITMAL]. Load this module and run the function\n",
    "\n",
    "```python\n",
    "from libitmal import utils as itmalutils\n",
    "itmalutils.TestAll()\n",
    "```\n",
    "from this module.\n",
    "\n",
    "##### Implementation details\n",
    "\n",
    "Note that there is a python module ___include___ search path, that you may have to investigate and modify. For my Linux setup I have an export or declare statement in my .bashrc file, like\n",
    "\n",
    "```bash\n",
    "declare -x PYTHONPATH=~/ASE/ML/itmal:$PYTHONPATH\n",
    "```\n",
    "but your ```itmal```, the [GITMAL] root dir, may be placed elsewhere.\n",
    "\n",
    "For ___Windows___, you have to add `PYTHONPATH` to your user environment variables...see screenshot below (enlarge by modding the image width-tag or find the original png in the Figs directory).\n",
    "\n",
    "<img src=\"https://itundervisning.ase.au.dk/SWMAL/L01/Figs/Screenshot_windows_enviroment_variables.png\" alt=\"WARNING: could not get image from server.\" style=\"height:250px\" style=\"width:350px\">\n",
    "\n",
    "but notice that for this to take effect, you need to restart Anaconda or perhaps even reboot your Windows OS! An alternative, not requiring restart is to use a CMD prompt and the following command under Windows\n",
    "\n",
    "```bash\n",
    "CMD> setx.exe PYTHONPATH \"C:\\Users\\auXXYYZZ\\itmal\"\n",
    "```\n",
    "\n",
    "replacing the username and path with whatever you have. Note that some Windows installations have various security settings enables, so that running `setx.exe` fails. Setting up a MAC should be similar to Linux; just modify your `PYTHONPATH` setting (still to be proven correct?, CEF). \n",
    "\n",
    "\n",
    "If everything fails you could programmatically add your path to the libitmal directory as\n",
    "\n",
    "```python\n",
    "import sys,os\n",
    "sys.path.append(os.path.expanduser('~/itmal'))\n",
    "\n",
    "from libitmal import utils as itmalutils\n",
    "print(dir(itmalutils))\n",
    "print(itmalutils.__file__)\n",
    "```\n",
    "\n",
    "For the journal: remember to document your particular PATH setup.\n",
    "\n",
    "1. we added the following line to the **User variables** in **Environment Variables**:\n",
    "   - **Variable Name**: `PYTHONPATH`\n",
    "   - **Variable Value**: `C:\\6. semester\\MAL repo\\MAL-G10\\O1`\n",
    "   \n",
    "2. After saving the settings, I restarted the terminal to ensure the path was recognized."
   ]
  },
  {
   "cell_type": "code",
   "execution_count": 1,
   "metadata": {},
   "outputs": [
    {
     "name": "stdout",
     "output_type": "stream",
     "text": [
      "['PrintMatrix', 'TestAll', '__builtins__', '__cached__', '__doc__', '__file__', '__loader__', '__name__', '__package__', '__spec__', 'np']\n",
      "c:\\6. semester\\MAL repo\\MAL-G10\\O1\\libitmal\\utils.py\n",
      "mylabel=:\n",
      "[[   1    2]\n",
      " [   3 -100]]\n",
      "Test Matrix:\n",
      "[[   1    2]\n",
      " [   3 -100]]\n",
      "TestAll function executed successfully!\n"
     ]
    }
   ],
   "source": [
    "# TODO: Qa...\n",
    "\n",
    "import numpy as np\n",
    "from libitmal import utils as itmalutils\n",
    "\n",
    "print(dir(itmalutils))\n",
    "print(itmalutils.__file__)\n",
    "\n",
    "X = np.array([[1,2],[3,-100]])\n",
    "itmalutils.PrintMatrix(X,\"mylabel=\")\n",
    "itmalutils.TestAll()"
   ]
  },
  {
   "cell_type": "markdown",
   "metadata": {},
   "source": [
    "#### Qb Create your own module, with some functions, and test it\n",
    "\n",
    "Now create your own module, with some dummy functionality. Load it and run you dummy function in a Jupyter Notebook.\n",
    "\n",
    "Keep this module at hand, when coding, and try to capture reusable python functions in it as you invent them!\n",
    "\n",
    "For the journal: remember to document your particular library setup (where did you place files, etc).\n",
    "\n",
    "1. we made a new python file named random_func that was placed in the libitmal directory, we could also have chosen to make a a whole new directory, but that meant we had to include an init file, which we already have in libitmal.\n",
    "\n",
    "2. It was then possible to import the file with the addded new python functions. The fucntion hello, greets whatever string name is inserted, while add, just adds two numbers."
   ]
  },
  {
   "cell_type": "code",
   "execution_count": 2,
   "metadata": {},
   "outputs": [
    {
     "name": "stdout",
     "output_type": "stream",
     "text": [
      "greetings, World!\n",
      "5\n"
     ]
    }
   ],
   "source": [
    "# TODO: Qb...\n",
    "from libitmal import random_func\n",
    "\n",
    "print(random_func.hello(\"World\"))\n",
    "print(random_func.add(2,3))"
   ]
  },
  {
   "cell_type": "markdown",
   "metadata": {},
   "source": [
    "#### Qc How do you 'recompile' a module?\n",
    "\n",
    "When changing the module code, Jupyter will keep running on the old module. How do you force the Jupyter notebook to re-load the module changes? \n",
    "\n",
    "NOTE: There is a surprising issue regarding module reloads in Jupyter notebooks both using the browser interface and VSCode (at least with some Notebooks addons). If you use another development framework, like Spyder module reloading works out-of-the-box. \n",
    "\n",
    "When we try to modify our code in a module, Jupyter does will as mentioned not automatically reload the updated version of the module. To force Jupyter to reload the module we did the following:\n",
    "\n",
    "1. We started by modifying the module code. (the hello function, print greetings and not hello)\n",
    "\n",
    "2. To reload the module we use the `importlib` library to reload the module in Jupyter:"
   ]
  },
  {
   "cell_type": "code",
   "execution_count": 3,
   "metadata": {},
   "outputs": [
    {
     "name": "stdout",
     "output_type": "stream",
     "text": [
      "greetings, World!\n"
     ]
    }
   ],
   "source": [
    "# TODO: Qc...\n",
    "import importlib\n",
    "import libitmal.random_func as rf\n",
    "\n",
    "importlib.reload(rf)\n",
    "\n",
    "print(rf.hello(\"World\"))"
   ]
  },
  {
   "cell_type": "markdown",
   "metadata": {},
   "source": [
    "#### [OPTIONAL] Qd Write a Howto on Python Modules a Packages\n",
    "\n",
    "Write a short description of how to use modules in Python (notes on modules path, import directives, directory structure, etc.)"
   ]
  },
  {
   "cell_type": "code",
   "execution_count": null,
   "metadata": {},
   "outputs": [],
   "source": [
    "# TODO: Qd..."
   ]
  },
  {
   "cell_type": "markdown",
   "metadata": {},
   "source": [
    "### Classes in Python\n",
    "\n",
    "Good news: Python got classes. Bad news: they are somewhat obscure compared to C++ classes. \n",
    "\n",
    "Though we will not use object-oriented programming in Python intensively, we still need some basic understanding of Python classes. Let's just dig into a class-demo, here is `MyClass` in Python\n",
    "\n",
    "```python\n",
    "class MyClass:\n",
    "   \n",
    "    def myfun(self):\n",
    "        self.myvar = \"blah\" # NOTE: a per class-instance variable.\n",
    "        print(f\"This is a message inside the class, myvar={self.myvar}.\")\n",
    "\n",
    "myobjectx = MyClass()\n",
    "```\n",
    "\n",
    "NOTE: The following exercise assumes some C++ knowledge, in particular the OPRG and OOP courses. If you are an EE-student, or from another Faculty, then ignore the cryptic C++ comments, and jump directly to some Python code instead. It's the Python solution here, that is important!\n",
    "\n",
    "#### Qe Extend the class with some public and private functions and member variables\n",
    "\n",
    "How are private function and member variables represented in python classes? \n",
    "\n",
    "What is the meaning of `self` in python classes?\n",
    "\n",
    "What happens to a function inside a class if you forget `self` in the parameter list, like `def myfun():` instead of `def myfun(self):` and you try to call it like `myobjectx.myfun()`? Remember to document the demo code and result.\n",
    "\n",
    "1. Private variables and methods are usually defined by prefixing the name with two underscores (__) as python does not enforce strict access control.\n",
    "\n",
    "2. \"self\" refers to the current instance of the class.\n",
    "\n",
    "3.  Python expects self to refer to the instance of the class. Without it, the method can't access instance variables or methods, which leads to an error which is documented in Qe demo below.\n",
    "\n",
    "[OPTIONAL] What does 'class' and 'instance variables' in python correspond to in C++? Maybe you can figure it out, I did not really get it reading, say this tutorial\n",
    "\n",
    "> https://www.digitalocean.com/community/tutorials/understanding-class-and-instance-variables-in-python-3"
   ]
  },
  {
   "cell_type": "code",
   "execution_count": 4,
   "metadata": {},
   "outputs": [
    {
     "name": "stdout",
     "output_type": "stream",
     "text": [
      "This is a message inside the class, myvar=blah.\n",
      "This is a public function\n"
     ]
    },
    {
     "ename": "AttributeError",
     "evalue": "'MyClass' object has no attribute '__private_fun'",
     "output_type": "error",
     "traceback": [
      "\u001b[1;31m---------------------------------------------------------------------------\u001b[0m",
      "\u001b[1;31mAttributeError\u001b[0m                            Traceback (most recent call last)",
      "Cell \u001b[1;32mIn[4], line 17\u001b[0m\n\u001b[0;32m     15\u001b[0m myobject\u001b[38;5;241m.\u001b[39mmyfun()\n\u001b[0;32m     16\u001b[0m myobject\u001b[38;5;241m.\u001b[39mpublic_fun()\n\u001b[1;32m---> 17\u001b[0m myobject\u001b[38;5;241m.\u001b[39m__private_fun()\n",
      "\u001b[1;31mAttributeError\u001b[0m: 'MyClass' object has no attribute '__private_fun'"
     ]
    }
   ],
   "source": [
    "# TODO: Qe...\n",
    "class MyClass:\n",
    "   \n",
    "    def myfun(self):\n",
    "        self.myvar = \"blah\" # NOTE: a per class-instance variable.\n",
    "        print(f\"This is a message inside the class, myvar={self.myvar}.\")\n",
    "    \n",
    "    def public_fun(self):\n",
    "        print(\"This is a public function\")\n",
    "    \n",
    "    def __private_fun(self):\n",
    "        print(\"This is a private function\")\n",
    "\n",
    "myobject = MyClass()\n",
    "myobject.myfun()\n",
    "myobject.public_fun()\n",
    "myobject.__private_fun() # This will not work, as __private_fun is a private function"
   ]
  },
  {
   "cell_type": "markdown",
   "metadata": {},
   "source": [
    "#### Qf Extend the class with a Constructor\n",
    "\n",
    "Figure a way to declare/define a constructor (CTOR) in a python class. How is it done in python?\n",
    "\n",
    "Is there a class destructor in python (DTOR)? Give a textual reason why/why-not python has a DTOR?\n",
    "\n",
    "Hint: python is garbage collection like in C#, and do not go into the details of `__del__, ___enter__, __exit__` functions...unless you find it irresistible to investigate."
   ]
  },
  {
   "cell_type": "code",
   "execution_count": null,
   "metadata": {},
   "outputs": [],
   "source": [
    "# TODO: Qf..."
   ]
  },
  {
   "cell_type": "markdown",
   "metadata": {},
   "source": [
    "#### Qg Extend the class with a to-string function\n",
    "\n",
    "Then find a way to serialize a class, that is to make some `tostring()` functionality similar to a C++ \n",
    "\n",
    "```C++\n",
    "friend ostream& operator<<(ostream& s,const MyClass& x)\n",
    "{\n",
    "    return os << ..\n",
    "}\n",
    "```\n",
    "\n",
    "If you do not know C++, you might be aware of the C# way to string serialize\n",
    "```\n",
    "    string s=myobject.tostring()\n",
    "```\n",
    "that is a per-class buildin function `tostring()`, now what is the pythonic way of 'printing' a class instance?"
   ]
  },
  {
   "cell_type": "code",
   "execution_count": null,
   "metadata": {},
   "outputs": [],
   "source": [
    "# TODO: Qg..."
   ]
  },
  {
   "cell_type": "markdown",
   "metadata": {},
   "source": [
    "#### [OPTIONAL] Qh Write a Howto on Python Classes \n",
    "\n",
    "Write a _How-To use Classes Pythonically_, including a description of public/privacy, constructors/destructors, the meaning of `self`, and inheritance."
   ]
  },
  {
   "cell_type": "code",
   "execution_count": null,
   "metadata": {},
   "outputs": [],
   "source": [
    "# TODO: Qh..."
   ]
  },
  {
   "cell_type": "markdown",
   "metadata": {},
   "source": [
    "## Administration\n",
    "\n",
    "REVISIONS||\n",
    ":- | :- |\n",
    "2018-12-19| CEF, initial.                  \n",
    "2018-02-06| CEF, updated and spell checked. \n",
    "2018-02-07| CEF, made Qh optional.\n",
    "2018-02-08| CEF, added PYTHONPATH for windows.\n",
    "2018-02-12| CEF, small mod in itmalutils/utils.\n",
    "2019-08-20| CEF, E19 ITMAL update.\n",
    "2020-01-25| CEF, F20 ITMAL update.\n",
    "2020-08-06| CEF, E20 ITMAL update, udpated figs paths.\n",
    "2020-09-07| CEF, added text on OPRG and OOP for EE's\n",
    "2020-09-29| CEF, added elaboration for journal in Qa+b.\n",
    "2021-02-06| CEF, fixed itmalutils.TestAll() in markdown cell.\n",
    "2021-08-02| CEF, update to E21 ITMAL.\n",
    "2022-01-25| CEF, update to F22 SWMAL.\n",
    "2022-02-25| CEF, elaborated on setx.exe on Windows and MAC PYTHONPATH.\n",
    "2022-08-30| CEF, updated to v1 changes.\n",
    "2022-09-16| CEF, added comment on module reloading when not using notebooks.\n",
    "2023-08-30| CEF, minor table and text update.\n",
    "2023-09-08| CEF, added not on Anaconda/Windows restart for PYTHON path env.\n",
    "2023-02-18| CEF, elaborated on module reload and VSCode."
   ]
  }
 ],
 "metadata": {
  "kernelspec": {
   "display_name": "base",
   "language": "python",
   "name": "python3"
  },
  "language_info": {
   "codemirror_mode": {
    "name": "ipython",
    "version": 3
   },
   "file_extension": ".py",
   "mimetype": "text/x-python",
   "name": "python",
   "nbconvert_exporter": "python",
   "pygments_lexer": "ipython3",
   "version": "3.12.7"
  },
  "varInspector": {
   "cols": {
    "lenName": 16,
    "lenType": 16,
    "lenVar": 40
   },
   "kernels_config": {
    "python": {
     "delete_cmd_postfix": "",
     "delete_cmd_prefix": "del ",
     "library": "var_list.py",
     "varRefreshCmd": "print(var_dic_list())"
    },
    "r": {
     "delete_cmd_postfix": ") ",
     "delete_cmd_prefix": "rm(",
     "library": "var_list.r",
     "varRefreshCmd": "cat(var_dic_list()) "
    }
   },
   "position": {
    "height": "144.517px",
    "left": "666px",
    "right": "20px",
    "top": "425px",
    "width": "350px"
   },
   "types_to_exclude": [
    "module",
    "function",
    "builtin_function_or_method",
    "instance",
    "_Feature"
   ],
   "window_display": true
  }
 },
 "nbformat": 4,
 "nbformat_minor": 2
}
